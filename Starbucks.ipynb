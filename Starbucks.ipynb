{
 "cells": [
  {
   "cell_type": "markdown",
   "metadata": {},
   "source": [
    "## Portfolio Exercise: Starbucks\n",
    "<br>\n",
    "\n",
    "<img src=\"https://opj.ca/wp-content/uploads/2018/02/New-Starbucks-Logo-1200x969.jpg\" width=\"200\" height=\"200\">\n",
    "<br>\n",
    "<br>\n",
    " \n",
    "#### Background Information\n",
    "\n",
    "The dataset in this exercise was originally used as a take-home assignment provided by Starbucks for their job candidates. The data for this exercise consists of about 120,000 data points split in a 2:1 ratio among training and test files. In the experiment simulated by the data, an advertising promotion was tested to see if it would bring more customers to purchase a specific product priced at $10. Since it costs the company 0.15 to send out each promotion, it would be best to limit that promotion only to those that are most receptive to the promotion. Each data point includes one column indicating whether or not an individual was sent a promotion for the product, and one column indicating whether or not that individual eventually purchased that product. Each individual also has seven additional features associated with them, which are provided abstractly as V1-V7.\n",
    "\n",
    "#### Optimization Strategy\n",
    "\n",
    "The task is to use the training data to understand what patterns in V1-V7 to indicate that a promotion should be provided to a user. Specifically, the goal is to maximize the following metrics:\n",
    "\n",
    "* **Incremental Response Rate (IRR)** \n",
    "\n",
    "IRR depicts how many more customers purchased the product with the promotion, as compared to if they didn't receive the promotion. Mathematically, it's the ratio of the number of purchasers in the promotion group to the total number of customers in the purchasers group (_treatment_) minus the ratio of the number of purchasers in the non-promotional group to the total number of customers in the non-promotional group (_control_).\n",
    "\n",
    "$$ IRR = \\frac{purch_{treat}}{cust_{treat}} - \\frac{purch_{ctrl}}{cust_{ctrl}} $$\n",
    "\n",
    "\n",
    "* **Net Incremental Revenue (NIR)**\n",
    "\n",
    "NIR depicts how much is made (or lost) by sending out the promotion. Mathematically, this is 10 times the total number of purchasers that received the promotion minus 0.15 times the number of promotions sent out, minus 10 times the number of purchasers who were not given the promotion.\n",
    "\n",
    "$$ NIR = (10\\cdot purch_{treat} - 0.15 \\cdot cust_{treat}) - 10 \\cdot purch_{ctrl}$$\n",
    "\n",
    "For a full description of what Starbucks provides to candidates see the [instructions available here](https://drive.google.com/open?id=18klca9Sef1Rs6q8DW4l7o349r8B70qXM).\n",
    "\n",
    "Below you can find the training data provided.  Explore the data and different optimization strategies.\n",
    "\n",
    "#### How To Test Your Strategy?\n",
    "\n",
    "When you feel like you have an optimization strategy, complete the `promotion_strategy` function to pass to the `test_results` function.  \n",
    "From past data, we know there are four possible outomes:\n",
    "\n",
    "Table of actual promotion vs. predicted promotion customers:  \n",
    "\n",
    "<table>\n",
    "<tr><th></th><th colspan = '2'>Actual</th></tr>\n",
    "<tr><th>Predicted</th><th>Yes</th><th>No</th></tr>\n",
    "<tr><th>Yes</th><td>I</td><td>II</td></tr>\n",
    "<tr><th>No</th><td>III</td><td>IV</td></tr>\n",
    "</table>\n",
    "\n",
    "The metrics are only being compared for the individuals we predict should obtain the promotion – that is, quadrants I and II.  Since the first set of individuals that receive the promotion (in the training set) receive it randomly, we can expect that quadrants I and II will have approximately equivalent participants.  \n",
    "\n",
    "Comparing quadrant I to II then gives an idea of how well your promotion strategy will work in the future. \n",
    "\n",
    "Get started by reading in the data below.  See how each variable or combination of variables along with a promotion influences the chance of purchasing.  When you feel like you have a strategy for who should receive a promotion, test your strategy against the test dataset used in the final `test_results` function."
   ]
  },
  {
   "cell_type": "markdown",
   "metadata": {},
   "source": [
    "## Loading the data"
   ]
  },
  {
   "cell_type": "code",
   "execution_count": 1,
   "metadata": {},
   "outputs": [
    {
     "name": "stdout",
     "output_type": "stream",
     "text": [
      "Collecting graphviz\n",
      "  Downloading https://files.pythonhosted.org/packages/1f/e2/ef2581b5b86625657afd32030f90cf2717456c1d2b711ba074bf007c0f1a/graphviz-0.10.1-py2.py3-none-any.whl\n",
      "Installing collected packages: graphviz\n",
      "Successfully installed graphviz-0.10.1\n",
      "\u001b[33mYou are using pip version 9.0.1, however version 18.1 is available.\n",
      "You should consider upgrading via the 'pip install --upgrade pip' command.\u001b[0m\n"
     ]
    },
    {
     "data": {
      "text/html": [
       "<div>\n",
       "<style>\n",
       "    .dataframe thead tr:only-child th {\n",
       "        text-align: right;\n",
       "    }\n",
       "\n",
       "    .dataframe thead th {\n",
       "        text-align: left;\n",
       "    }\n",
       "\n",
       "    .dataframe tbody tr th {\n",
       "        vertical-align: top;\n",
       "    }\n",
       "</style>\n",
       "<table border=\"1\" class=\"dataframe\">\n",
       "  <thead>\n",
       "    <tr style=\"text-align: right;\">\n",
       "      <th></th>\n",
       "      <th>ID</th>\n",
       "      <th>Promotion</th>\n",
       "      <th>purchase</th>\n",
       "      <th>V1</th>\n",
       "      <th>V2</th>\n",
       "      <th>V3</th>\n",
       "      <th>V4</th>\n",
       "      <th>V5</th>\n",
       "      <th>V6</th>\n",
       "      <th>V7</th>\n",
       "    </tr>\n",
       "  </thead>\n",
       "  <tbody>\n",
       "    <tr>\n",
       "      <th>0</th>\n",
       "      <td>1</td>\n",
       "      <td>No</td>\n",
       "      <td>0</td>\n",
       "      <td>2</td>\n",
       "      <td>30.443518</td>\n",
       "      <td>-1.165083</td>\n",
       "      <td>1</td>\n",
       "      <td>1</td>\n",
       "      <td>3</td>\n",
       "      <td>2</td>\n",
       "    </tr>\n",
       "    <tr>\n",
       "      <th>1</th>\n",
       "      <td>3</td>\n",
       "      <td>No</td>\n",
       "      <td>0</td>\n",
       "      <td>3</td>\n",
       "      <td>32.159350</td>\n",
       "      <td>-0.645617</td>\n",
       "      <td>2</td>\n",
       "      <td>3</td>\n",
       "      <td>2</td>\n",
       "      <td>2</td>\n",
       "    </tr>\n",
       "    <tr>\n",
       "      <th>2</th>\n",
       "      <td>4</td>\n",
       "      <td>No</td>\n",
       "      <td>0</td>\n",
       "      <td>2</td>\n",
       "      <td>30.431659</td>\n",
       "      <td>0.133583</td>\n",
       "      <td>1</td>\n",
       "      <td>1</td>\n",
       "      <td>4</td>\n",
       "      <td>2</td>\n",
       "    </tr>\n",
       "    <tr>\n",
       "      <th>3</th>\n",
       "      <td>5</td>\n",
       "      <td>No</td>\n",
       "      <td>0</td>\n",
       "      <td>0</td>\n",
       "      <td>26.588914</td>\n",
       "      <td>-0.212728</td>\n",
       "      <td>2</td>\n",
       "      <td>1</td>\n",
       "      <td>4</td>\n",
       "      <td>2</td>\n",
       "    </tr>\n",
       "    <tr>\n",
       "      <th>4</th>\n",
       "      <td>8</td>\n",
       "      <td>Yes</td>\n",
       "      <td>0</td>\n",
       "      <td>3</td>\n",
       "      <td>28.044332</td>\n",
       "      <td>-0.385883</td>\n",
       "      <td>1</td>\n",
       "      <td>1</td>\n",
       "      <td>2</td>\n",
       "      <td>2</td>\n",
       "    </tr>\n",
       "  </tbody>\n",
       "</table>\n",
       "</div>"
      ],
      "text/plain": [
       "   ID Promotion  purchase  V1         V2        V3  V4  V5  V6  V7\n",
       "0   1        No         0   2  30.443518 -1.165083   1   1   3   2\n",
       "1   3        No         0   3  32.159350 -0.645617   2   3   2   2\n",
       "2   4        No         0   2  30.431659  0.133583   1   1   4   2\n",
       "3   5        No         0   0  26.588914 -0.212728   2   1   4   2\n",
       "4   8       Yes         0   3  28.044332 -0.385883   1   1   2   2"
      ]
     },
     "execution_count": 1,
     "metadata": {},
     "output_type": "execute_result"
    }
   ],
   "source": [
    "# load in packages\n",
    "from itertools import combinations\n",
    "\n",
    "from test_results import test_results, score\n",
    "import numpy as np\n",
    "import pandas as pd\n",
    "import statsmodels.formula.api as sm\n",
    "from statsmodels.tools import add_constant\n",
    "from sklearn.model_selection import train_test_split\n",
    "from sklearn.metrics import accuracy_score, confusion_matrix, f1_score\n",
    "from sklearn.tree import DecisionTreeClassifier, export_graphviz\n",
    "from sklearn.preprocessing import StandardScaler\n",
    "from scipy.stats import ttest_ind\n",
    "from IPython.display import SVG\n",
    "!pip install graphviz\n",
    "from graphviz import Source\n",
    "from IPython.display import display\n",
    "\n",
    "import matplotlib.pyplot as plt\n",
    "import seaborn as sb\n",
    "%matplotlib inline\n",
    "\n",
    "# load in the data\n",
    "train_data = pd.read_csv('./training.csv')\n",
    "train_data.head()"
   ]
  },
  {
   "cell_type": "markdown",
   "metadata": {},
   "source": [
    "## Data Exploration"
   ]
  },
  {
   "cell_type": "markdown",
   "metadata": {},
   "source": [
    "We start by exploring the data, and making sure it is clean for analysis."
   ]
  },
  {
   "cell_type": "code",
   "execution_count": 2,
   "metadata": {},
   "outputs": [
    {
     "name": "stdout",
     "output_type": "stream",
     "text": [
      "Our training dataset has 84534 individuals. Among them, 42364 received the promotion and 42170 did not\n"
     ]
    }
   ],
   "source": [
    "# We visualize the shape of our dataset\n",
    "print('Our training dataset has {} individuals. \\\n",
    "Among them, {} received the promotion and {} did not'.format(len(train_data),\n",
    "                                                            len(train_data.loc[train_data.Promotion == 'Yes']),\n",
    "                                                            len(train_data.loc[train_data.Promotion == 'No'])))"
   ]
  },
  {
   "cell_type": "code",
   "execution_count": 3,
   "metadata": {},
   "outputs": [
    {
     "data": {
      "text/plain": [
       "Promotion\n",
       "No     0.007565\n",
       "Yes    0.017019\n",
       "Name: purchase, dtype: float64"
      ]
     },
     "execution_count": 3,
     "metadata": {},
     "output_type": "execute_result"
    }
   ],
   "source": [
    "# We then compare the response rate for those who received the promotion and those who did not\n",
    "train_data.groupby('Promotion')['purchase'].agg(lambda x: x.sum()/x.count())"
   ]
  },
  {
   "cell_type": "code",
   "execution_count": 4,
   "metadata": {},
   "outputs": [
    {
     "data": {
      "text/plain": [
       "ID           0\n",
       "Promotion    0\n",
       "purchase     0\n",
       "V1           0\n",
       "V2           0\n",
       "V3           0\n",
       "V4           0\n",
       "V5           0\n",
       "V6           0\n",
       "V7           0\n",
       "dtype: int64"
      ]
     },
     "execution_count": 4,
     "metadata": {},
     "output_type": "execute_result"
    }
   ],
   "source": [
    "# We check for missing values\n",
    "train_data.isnull().sum()"
   ]
  },
  {
   "cell_type": "code",
   "execution_count": 5,
   "metadata": {},
   "outputs": [
    {
     "data": {
      "text/plain": [
       "0"
      ]
     },
     "execution_count": 5,
     "metadata": {},
     "output_type": "execute_result"
    }
   ],
   "source": [
    "# We check for duplicates\n",
    "train_data.duplicated().sum()"
   ]
  },
  {
   "cell_type": "code",
   "execution_count": 6,
   "metadata": {},
   "outputs": [
    {
     "data": {
      "text/plain": [
       "<matplotlib.axes._subplots.AxesSubplot at 0x7ff3d72d02e8>"
      ]
     },
     "execution_count": 6,
     "metadata": {},
     "output_type": "execute_result"
    },
    {
     "data": {
      "image/png": "[encoded data removed]",
      "text/plain": [
       "<matplotlib.figure.Figure at 0x7ff4085e6518>"
      ]
     },
     "metadata": {
      "needs_background": "light"
     },
     "output_type": "display_data"
    }
   ],
   "source": [
    "# Finally we visualize the distribution of values to make sure all our data seems valid\n",
    "train_data.iloc[:,1:].boxplot()"
   ]
  },
  {
   "cell_type": "markdown",
   "metadata": {},
   "source": [
    "Our dataset is relatively evenly split between people who received the promotion and those who did not, so the assignment appears between treatment and control appears to have been random. At first glance, the response rate (not taking incrementality into account) for people who received the promotion received a boost, but we will need to assess the significance of this result. \n",
    "\n",
    "We do not have missing values nor duplicates, and our features do not appear to have outliers (except for the feature V2). Given the lack of information about what the feature represents, we do not remove these extreme values, but we could test our approach with these values removed."
   ]
  },
  {
   "cell_type": "markdown",
   "metadata": {},
   "source": [
    "## Analysis"
   ]
  },
  {
   "cell_type": "markdown",
   "metadata": {},
   "source": [
    "### Raw Results"
   ]
  },
  {
   "cell_type": "code",
   "execution_count": 7,
   "metadata": {},
   "outputs": [],
   "source": [
    "def calculate_irr(df):\n",
    "    '''\n",
    "    df (dataframe): a dataframe containing the results for the treatment and control groups\n",
    "    \n",
    "    OUTPUT: a float representing the incremental response rate of this promotional campaign\n",
    "    '''\n",
    "    \n",
    "    purch_treat = df.loc[df.Promotion == 'Yes','purchase'].sum()\n",
    "    purch_cont = df.loc[df.Promotion == 'No','purchase'].sum()\n",
    "    nb_treat = (df.Promotion == 'Yes').sum()\n",
    "    nb_cont = (df.Promotion == 'No').sum()\n",
    "    \n",
    "    irr = (purch_treat/nb_treat) - (purch_cont/nb_cont)\n",
    "    \n",
    "    return irr\n",
    "\n",
    "def calculate_nir(df):\n",
    "    ''''\n",
    "    df (dataframe): a dataframe containing the results for the treatment and control groups\n",
    "    \n",
    "    OUTPUT: a float representing the net incremental revenue of this promotional campaign\n",
    "    '''\n",
    "    purch_treat = df.loc[df.Promotion == 'Yes','purchase'].sum()\n",
    "    purch_cont = df.loc[df.Promotion == 'No','purchase'].sum()\n",
    "    nb_treat = (df.Promotion == 'Yes').sum()\n",
    "    \n",
    "    nir = (10*purch_treat - 0.15*nb_treat) - purch_cont\n",
    "    \n",
    "    return nir"
   ]
  },
  {
   "cell_type": "code",
   "execution_count": 8,
   "metadata": {},
   "outputs": [
    {
     "name": "stdout",
     "output_type": "stream",
     "text": [
      "The incremental response rate for this promotion on the training data is 0.9%, which translates intoa net incremental revenue of $536.40\n"
     ]
    }
   ],
   "source": [
    "print('The incremental response rate for this promotion on the training data is {:.1%}, which translates into\\\n",
    "a net incremental revenue of ${:.2f}'.format(calculate_irr(train_data), calculate_nir(train_data)))"
   ]
  },
  {
   "cell_type": "markdown",
   "metadata": {},
   "source": [
    "### Permutation Test"
   ]
  },
  {
   "cell_type": "code",
   "execution_count": 9,
   "metadata": {},
   "outputs": [],
   "source": [
    "def permtest(df, n_trials = 10000):\n",
    "    \"\"\"\n",
    "    Compute a confidence interval for the irr and nir using a permutation method. \n",
    "    \n",
    "    Input parameters:\n",
    "        df: original dataframe on which to perform the test\n",
    "        alternative: type of test to perform, {'less', 'greater'}\n",
    "        n_trials: number of permutation trials to perform\n",
    "    \n",
    "    Output value:\n",
    "        a confidence interval containing 95% of values\n",
    "    \"\"\"\n",
    "    \n",
    "    \n",
    "    # initialize storage of permuted irr and nir\n",
    "    sample_irr = []\n",
    "    sample_nir = []\n",
    "    \n",
    "    # For each trial...\n",
    "    for _ in range(n_trials):\n",
    "        # randomly permute the grouping labels\n",
    "        df.Promotion = np.random.permutation(df.Promotion)\n",
    "        \n",
    "        # compute the irr and nir on the permuted dataset\n",
    "        irr = calculate_irr(df)\n",
    "        nir = calculate_nir(df)\n",
    "        \n",
    "        # and add the value to the list of samples\n",
    "        sample_irr.append(irr)\n",
    "        sample_nir.append(nir)\n",
    "    \n",
    "    irr_ci = []\n",
    "    irr_ci.append(np.percentile(np.array(sample_irr),0.025))\n",
    "    irr_ci.append(np.percentile(np.array(sample_irr),0.975))\n",
    "    nir_ci = []\n",
    "    nir_ci.append(np.percentile(np.array(sample_nir),0.025))\n",
    "    nir_ci.append(np.percentile(np.array(sample_nir),0.975))\n",
    "    \n",
    "    return irr_ci, nir_ci"
   ]
  },
  {
   "cell_type": "code",
   "execution_count": 10,
   "metadata": {},
   "outputs": [
    {
     "data": {
      "text/plain": [
       "([-0.0020911632592063717, -0.001712615354977548],\n",
       " [-2147.5999999999995, -2059.5999999999995])"
      ]
     },
     "execution_count": 10,
     "metadata": {},
     "output_type": "execute_result"
    }
   ],
   "source": [
    "irr_ci, nir_ci = permtest(train_data, n_trials = 1000)\n",
    "irr_ci, nir_ci"
   ]
  },
  {
   "cell_type": "markdown",
   "metadata": {},
   "source": [
    "### Logistic Regression"
   ]
  },
  {
   "cell_type": "code",
   "execution_count": 11,
   "metadata": {},
   "outputs": [
    {
     "name": "stdout",
     "output_type": "stream",
     "text": [
      "Optimization terminated successfully.\n",
      "         Current function value: 0.065693\n",
      "         Iterations 9\n"
     ]
    },
    {
     "data": {
      "text/html": [
       "<table class=\"simpletable\">\n",
       "<caption>Logit Regression Results</caption>\n",
       "<tr>\n",
       "  <th>Dep. Variable:</th>     <td>purchase</td>     <th>  No. Observations:  </th>  <td> 84534</td>  \n",
       "</tr>\n",
       "<tr>\n",
       "  <th>Model:</th>               <td>Logit</td>      <th>  Df Residuals:      </th>  <td> 84525</td>  \n",
       "</tr>\n",
       "<tr>\n",
       "  <th>Method:</th>               <td>MLE</td>       <th>  Df Model:          </th>  <td>     8</td>  \n",
       "</tr>\n",
       "<tr>\n",
       "  <th>Date:</th>          <td>Thu, 29 Nov 2018</td> <th>  Pseudo R-squ.:     </th> <td>0.009653</td> \n",
       "</tr>\n",
       "<tr>\n",
       "  <th>Time:</th>              <td>17:34:37</td>     <th>  Log-Likelihood:    </th> <td> -5553.3</td> \n",
       "</tr>\n",
       "<tr>\n",
       "  <th>converged:</th>           <td>True</td>       <th>  LL-Null:           </th> <td> -5607.4</td> \n",
       "</tr>\n",
       "<tr>\n",
       "  <th> </th>                      <td> </td>        <th>  LLR p-value:       </th> <td>8.697e-20</td>\n",
       "</tr>\n",
       "</table>\n",
       "<table class=\"simpletable\">\n",
       "<tr>\n",
       "      <td></td>         <th>coef</th>     <th>std err</th>      <th>z</th>      <th>P>|z|</th>  <th>[0.025</th>    <th>0.975]</th>  \n",
       "</tr>\n",
       "<tr>\n",
       "  <th>Promotion</th> <td>    0.0231</td> <td>    0.062</td> <td>    0.370</td> <td> 0.712</td> <td>   -0.099</td> <td>    0.145</td>\n",
       "</tr>\n",
       "<tr>\n",
       "  <th>V1</th>        <td>   -0.0519</td> <td>    0.036</td> <td>   -1.444</td> <td> 0.149</td> <td>   -0.122</td> <td>    0.019</td>\n",
       "</tr>\n",
       "<tr>\n",
       "  <th>V2</th>        <td>   -0.0032</td> <td>    0.006</td> <td>   -0.518</td> <td> 0.604</td> <td>   -0.015</td> <td>    0.009</td>\n",
       "</tr>\n",
       "<tr>\n",
       "  <th>V3</th>        <td>   -0.0588</td> <td>    0.031</td> <td>   -1.883</td> <td> 0.060</td> <td>   -0.120</td> <td>    0.002</td>\n",
       "</tr>\n",
       "<tr>\n",
       "  <th>V4</th>        <td>    0.7352</td> <td>    0.080</td> <td>    9.177</td> <td> 0.000</td> <td>    0.578</td> <td>    0.892</td>\n",
       "</tr>\n",
       "<tr>\n",
       "  <th>V5</th>        <td>    0.0832</td> <td>    0.037</td> <td>    2.237</td> <td> 0.025</td> <td>    0.010</td> <td>    0.156</td>\n",
       "</tr>\n",
       "<tr>\n",
       "  <th>V6</th>        <td>   -0.0130</td> <td>    0.028</td> <td>   -0.466</td> <td> 0.641</td> <td>   -0.068</td> <td>    0.042</td>\n",
       "</tr>\n",
       "<tr>\n",
       "  <th>V7</th>        <td>   -0.0203</td> <td>    0.068</td> <td>   -0.298</td> <td> 0.765</td> <td>   -0.153</td> <td>    0.113</td>\n",
       "</tr>\n",
       "<tr>\n",
       "  <th>const</th>     <td>   -5.6413</td> <td>    0.295</td> <td>  -19.148</td> <td> 0.000</td> <td>   -6.219</td> <td>   -5.064</td>\n",
       "</tr>\n",
       "</table>"
      ],
      "text/plain": [
       "<class 'statsmodels.iolib.summary.Summary'>\n",
       "\"\"\"\n",
       "                           Logit Regression Results                           \n",
       "==============================================================================\n",
       "Dep. Variable:               purchase   No. Observations:                84534\n",
       "Model:                          Logit   Df Residuals:                    84525\n",
       "Method:                           MLE   Df Model:                            8\n",
       "Date:                Thu, 29 Nov 2018   Pseudo R-squ.:                0.009653\n",
       "Time:                        17:34:37   Log-Likelihood:                -5553.3\n",
       "converged:                       True   LL-Null:                       -5607.4\n",
       "                                        LLR p-value:                 8.697e-20\n",
       "==============================================================================\n",
       "                 coef    std err          z      P>|z|      [0.025      0.975]\n",
       "------------------------------------------------------------------------------\n",
       "Promotion      0.0231      0.062      0.370      0.712      -0.099       0.145\n",
       "V1            -0.0519      0.036     -1.444      0.149      -0.122       0.019\n",
       "V2            -0.0032      0.006     -0.518      0.604      -0.015       0.009\n",
       "V3            -0.0588      0.031     -1.883      0.060      -0.120       0.002\n",
       "V4             0.7352      0.080      9.177      0.000       0.578       0.892\n",
       "V5             0.0832      0.037      2.237      0.025       0.010       0.156\n",
       "V6            -0.0130      0.028     -0.466      0.641      -0.068       0.042\n",
       "V7            -0.0203      0.068     -0.298      0.765      -0.153       0.113\n",
       "const         -5.6413      0.295    -19.148      0.000      -6.219      -5.064\n",
       "==============================================================================\n",
       "\"\"\""
      ]
     },
     "execution_count": 11,
     "metadata": {},
     "output_type": "execute_result"
    }
   ],
   "source": [
    "# We first create an intercept, map our Promotion variable to a numeric value and then fit our model\n",
    "train_data = add_constant(train_data)\n",
    "train_data.Promotion = train_data.Promotion.map({'Yes': 1, 'No': 0})\n",
    "model = sm.Logit(train_data.purchase, train_data[['Promotion', 'V1', 'V2', 'V3', 'V4', 'V5', 'V6', 'V7', 'const']])\n",
    "results = model.fit()\n",
    "results.summary()"
   ]
  },
  {
   "cell_type": "markdown",
   "metadata": {},
   "source": [
    "Our double-pronged analysis yields similar results:\n",
    "- fitting a logistic regression allows us to assess whether, controlling for other variables, receiving the promotion in itself has an impact on the probability of buying an object. Here, at the 10% significance level, we can conclude that there is a significant impact. We do not include interaction terms, for we are more interested in the overall impact of the promotion.\n",
    "- conducting a permutation test confirms this analysis on the two metrics of interest. With this test, we can use permutation methods to build a confidence interval for the NIR and IRR, and see that our observed values are outside of these intervals. Thus, we conclude there is a significant impact."
   ]
  },
  {
   "cell_type": "markdown",
   "metadata": {},
   "source": [
    "### Interpretation\n",
    "\n",
    "Conducting a t-test on the purchase variable, we cannot conclude the promotion had a statistically significant effect, with a p-value of 0.137. This may be due to some parameters of the test and assumptions which are not met. To remedy this we conduct a permutation test, which is non-parametric (i.e. does not depend on assumptions such as normality or independence). Shuffling randomly the groups of the individuals, we can get a confidence interval for the values of IRR and NIR. We can see that in both cases the observed values are outside of these bounds, in the positive realm, so our promotion had a statistically significant, positive effect. \n",
    "\n",
    "Nonetheless, it was sent randomly to people. By analyzing the relationship between certain client features and these metrics of interest we can devise an optimized promotion strategy."
   ]
  },
  {
   "cell_type": "markdown",
   "metadata": {},
   "source": [
    "## Promotion Strategy Optimization\n",
    "\n",
    "Both metrics of interest boil down to increasing the response rate for people who do receive the promotions. In other words, we only want to send the promotion to people who are the most likely to purchase when they receive a promotion (since it costs money) and avoid those for whom the promotion has no impact, since it costs money to send the promotion. The idea is to find values of the features associated with purchasing.\n",
    "\n",
    "This brings to mind a classification problem. In particular, a decision tree will come in very handy for it will allow to visualize its structure and see given combinations of features associated with the different outcomes. We build a decision tree and visualize it to optimize our promotion strategy. \n",
    "\n",
    "### Modeling"
   ]
  },
  {
   "cell_type": "code",
   "execution_count": 12,
   "metadata": {},
   "outputs": [
    {
     "name": "stdout",
     "output_type": "stream",
     "text": [
      "The accuracy is 0.9875791092446915 but the F-1 score is 0.0\n"
     ]
    }
   ],
   "source": [
    "# We split our dataset into train and test sets and then fit a DecisionTreeClassifier\n",
    "# We first remove the constant that was created for our previous model\n",
    "train_data.drop(labels='const', axis=1, inplace=True)\n",
    "X = train_data.iloc[:,3:]\n",
    "y = train_data.purchase\n",
    "\n",
    "X_train, X_test, y_train, y_test = train_test_split(X, y, test_size=0.2, random_state=42)\n",
    "\n",
    "tree = DecisionTreeClassifier(random_state=42, max_depth=4)\n",
    "tree.fit(X_train, y_train)\n",
    "y_pred = tree.predict(X_test)\n",
    "\n",
    "print('The accuracy is {} but the F-1 score is {}'.format(accuracy_score(y_test, y_pred), f1_score(y_test, y_pred)))"
   ]
  },
  {
   "cell_type": "markdown",
   "metadata": {},
   "source": [
    "Simply fitting a decision tree is not enough: only about 1% of the customers in the training set purchased, regardless of them receiving the promotion or not. We have an imbalance in our classes, which biases our algorithm: a very high accuracy can be achieved by always predicting a customer will not purchase. We downsample our dominant class and re-train our model to deal with this."
   ]
  },
  {
   "cell_type": "code",
   "execution_count": 13,
   "metadata": {},
   "outputs": [],
   "source": [
    "# We downsample our dominant class in our training set\n",
    "i_class0 = np.where(y_train == 0)[0]\n",
    "i_class1 = np.where(y_train == 1)[0]\n",
    "\n",
    "# Number of observations in each class\n",
    "n_class0 = len(i_class0)\n",
    "n_class1 = len(i_class1)\n",
    "\n",
    "# For every observation of class 0, randomly sample from class 1 without replacement\n",
    "i_class0_downsampled = np.random.choice(i_class0, size=n_class1*2, replace=False)\n",
    "\n",
    "# Create new indices based on the downsampled class 0\n",
    "indices = np.concatenate((i_class0_downsampled, i_class1))\n",
    "np.random.shuffle(indices) # we shuffle to avoid order in our dataset\n",
    "\n",
    "# We subset our X_train and y_train datasets, we now have a ratio of 2:1 for class 0 vs 1\n",
    "X_train = X_train.iloc[indices]\n",
    "y_train = y_train.iloc[indices]"
   ]
  },
  {
   "cell_type": "code",
   "execution_count": 26,
   "metadata": {},
   "outputs": [
    {
     "name": "stdout",
     "output_type": "stream",
     "text": [
      "The accuracy is 0.9146507363813805 but the F-1 score is 0.03089321692411014\n"
     ]
    }
   ],
   "source": [
    "# We can fit a new model\n",
    "tree = DecisionTreeClassifier(random_state=42, max_depth=4, min_samples_leaf=7, min_samples_split=20)\n",
    "tree.fit(X_train, y_train)\n",
    "y_pred = tree.predict(X_test)\n",
    "\n",
    "print('The accuracy is {} but the F-1 score is {}'.format(accuracy_score(y_test, y_pred), f1_score(y_test, y_pred)))"
   ]
  },
  {
   "cell_type": "markdown",
   "metadata": {},
   "source": [
    "# We now examine feature importance\n",
    "tree.feature_importances_"
   ]
  },
  {
   "cell_type": "code",
   "execution_count": 24,
   "metadata": {},
   "outputs": [
    {
     "data": {
      "image/svg+xml": [
       "<svg height=\"552pt\" viewBox=\"0.00 0.00 1834.50 552.00\" width=\"1835pt\" xmlns=\"http://www.w3.org/2000/svg\" xmlns:xlink=\"http://www.w3.org/1999/xlink\">\n",
       "<g class=\"graph\" id=\"graph0\" transform=\"scale(1 1) rotate(0) translate(4 548)\">\n",
       "<title>Tree</title>\n",
       "<polygon fill=\"white\" points=\"-4,4 -4,-548 1830.5,-548 1830.5,4 -4,4\" stroke=\"none\"/>\n",
       "<!-- 0 -->\n",
       "<g class=\"node\" id=\"node1\"><title>0</title>\n",
       "<polygon fill=\"#e58139\" fill-opacity=\"0.498039\" points=\"881,-544 723,-544 723,-461 881,-461 881,-544\" stroke=\"black\"/>\n",
       "<text font-family=\"Times,serif\" font-size=\"14.00\" text-anchor=\"middle\" x=\"802\" y=\"-528.8\">V4 &lt;= 1.5</text>\n",
       "<text font-family=\"Times,serif\" font-size=\"14.00\" text-anchor=\"middle\" x=\"802\" y=\"-513.8\">gini = 0.444</text>\n",
       "<text font-family=\"Times,serif\" font-size=\"14.00\" text-anchor=\"middle\" x=\"802\" y=\"-498.8\">samples = 2496</text>\n",
       "<text font-family=\"Times,serif\" font-size=\"14.00\" text-anchor=\"middle\" x=\"802\" y=\"-483.8\">value = [1664, 832]</text>\n",
       "<text font-family=\"Times,serif\" font-size=\"14.00\" text-anchor=\"middle\" x=\"802\" y=\"-468.8\">class = No</text>\n",
       "</g>\n",
       "<!-- 1 -->\n",
       "<g class=\"node\" id=\"node2\"><title>1</title>\n",
       "<polygon fill=\"#e58139\" fill-opacity=\"0.721569\" points=\"772.5,-425 623.5,-425 623.5,-342 772.5,-342 772.5,-425\" stroke=\"black\"/>\n",
       "<text font-family=\"Times,serif\" font-size=\"14.00\" text-anchor=\"middle\" x=\"698\" y=\"-409.8\">V2 &lt;= 40.424</text>\n",
       "<text font-family=\"Times,serif\" font-size=\"14.00\" text-anchor=\"middle\" x=\"698\" y=\"-394.8\">gini = 0.342</text>\n",
       "<text font-family=\"Times,serif\" font-size=\"14.00\" text-anchor=\"middle\" x=\"698\" y=\"-379.8\">samples = 695</text>\n",
       "<text font-family=\"Times,serif\" font-size=\"14.00\" text-anchor=\"middle\" x=\"698\" y=\"-364.8\">value = [543, 152]</text>\n",
       "<text font-family=\"Times,serif\" font-size=\"14.00\" text-anchor=\"middle\" x=\"698\" y=\"-349.8\">class = No</text>\n",
       "</g>\n",
       "<!-- 0&#45;&gt;1 -->\n",
       "<g class=\"edge\" id=\"edge1\"><title>0-&gt;1</title>\n",
       "<path d=\"M765.918,-460.907C757.851,-451.832 749.219,-442.121 740.906,-432.769\" fill=\"none\" stroke=\"black\"/>\n",
       "<polygon fill=\"black\" points=\"743.278,-430.17 734.018,-425.021 738.046,-434.82 743.278,-430.17\" stroke=\"black\"/>\n",
       "<text font-family=\"Times,serif\" font-size=\"14.00\" text-anchor=\"middle\" x=\"732.55\" y=\"-446.278\">True</text>\n",
       "</g>\n",
       "<!-- 10 -->\n",
       "<g class=\"node\" id=\"node11\"><title>10</title>\n",
       "<polygon fill=\"#e58139\" fill-opacity=\"0.392157\" points=\"985,-425 827,-425 827,-342 985,-342 985,-425\" stroke=\"black\"/>\n",
       "<text font-family=\"Times,serif\" font-size=\"14.00\" text-anchor=\"middle\" x=\"906\" y=\"-409.8\">V5 &lt;= 2.5</text>\n",
       "<text font-family=\"Times,serif\" font-size=\"14.00\" text-anchor=\"middle\" x=\"906\" y=\"-394.8\">gini = 0.47</text>\n",
       "<text font-family=\"Times,serif\" font-size=\"14.00\" text-anchor=\"middle\" x=\"906\" y=\"-379.8\">samples = 1801</text>\n",
       "<text font-family=\"Times,serif\" font-size=\"14.00\" text-anchor=\"middle\" x=\"906\" y=\"-364.8\">value = [1121, 680]</text>\n",
       "<text font-family=\"Times,serif\" font-size=\"14.00\" text-anchor=\"middle\" x=\"906\" y=\"-349.8\">class = No</text>\n",
       "</g>\n",
       "<!-- 0&#45;&gt;10 -->\n",
       "<g class=\"edge\" id=\"edge10\"><title>0-&gt;10</title>\n",
       "<path d=\"M838.082,-460.907C846.149,-451.832 854.781,-442.121 863.094,-432.769\" fill=\"none\" stroke=\"black\"/>\n",
       "<polygon fill=\"black\" points=\"865.954,-434.82 869.982,-425.021 860.722,-430.17 865.954,-434.82\" stroke=\"black\"/>\n",
       "<text font-family=\"Times,serif\" font-size=\"14.00\" text-anchor=\"middle\" x=\"871.45\" y=\"-446.278\">False</text>\n",
       "</g>\n",
       "<!-- 2 -->\n",
       "<g class=\"node\" id=\"node3\"><title>2</title>\n",
       "<polygon fill=\"#e58139\" fill-opacity=\"0.733333\" points=\"512.5,-306 363.5,-306 363.5,-223 512.5,-223 512.5,-306\" stroke=\"black\"/>\n",
       "<text font-family=\"Times,serif\" font-size=\"14.00\" text-anchor=\"middle\" x=\"438\" y=\"-290.8\">V1 &lt;= 1.5</text>\n",
       "<text font-family=\"Times,serif\" font-size=\"14.00\" text-anchor=\"middle\" x=\"438\" y=\"-275.8\">gini = 0.333</text>\n",
       "<text font-family=\"Times,serif\" font-size=\"14.00\" text-anchor=\"middle\" x=\"438\" y=\"-260.8\">samples = 681</text>\n",
       "<text font-family=\"Times,serif\" font-size=\"14.00\" text-anchor=\"middle\" x=\"438\" y=\"-245.8\">value = [537, 144]</text>\n",
       "<text font-family=\"Times,serif\" font-size=\"14.00\" text-anchor=\"middle\" x=\"438\" y=\"-230.8\">class = No</text>\n",
       "</g>\n",
       "<!-- 1&#45;&gt;2 -->\n",
       "<g class=\"edge\" id=\"edge2\"><title>1-&gt;2</title>\n",
       "<path d=\"M623.494,-348.972C591.809,-334.714 554.708,-318.019 522.049,-303.322\" fill=\"none\" stroke=\"black\"/>\n",
       "<polygon fill=\"black\" points=\"523.072,-299.944 512.516,-299.032 520.199,-306.328 523.072,-299.944\" stroke=\"black\"/>\n",
       "</g>\n",
       "<!-- 9 -->\n",
       "<g class=\"node\" id=\"node10\"><title>9</title>\n",
       "<polygon fill=\"#399de5\" fill-opacity=\"0.250980\" points=\"755,-298.5 641,-298.5 641,-230.5 755,-230.5 755,-298.5\" stroke=\"black\"/>\n",
       "<text font-family=\"Times,serif\" font-size=\"14.00\" text-anchor=\"middle\" x=\"698\" y=\"-283.3\">gini = 0.49</text>\n",
       "<text font-family=\"Times,serif\" font-size=\"14.00\" text-anchor=\"middle\" x=\"698\" y=\"-268.3\">samples = 14</text>\n",
       "<text font-family=\"Times,serif\" font-size=\"14.00\" text-anchor=\"middle\" x=\"698\" y=\"-253.3\">value = [6, 8]</text>\n",
       "<text font-family=\"Times,serif\" font-size=\"14.00\" text-anchor=\"middle\" x=\"698\" y=\"-238.3\">class = Yes</text>\n",
       "</g>\n",
       "<!-- 1&#45;&gt;9 -->\n",
       "<g class=\"edge\" id=\"edge9\"><title>1-&gt;9</title>\n",
       "<path d=\"M698,-341.907C698,-331.204 698,-319.615 698,-308.776\" fill=\"none\" stroke=\"black\"/>\n",
       "<polygon fill=\"black\" points=\"701.5,-308.667 698,-298.667 694.5,-308.667 701.5,-308.667\" stroke=\"black\"/>\n",
       "</g>\n",
       "<!-- 3 -->\n",
       "<g class=\"node\" id=\"node4\"><title>3</title>\n",
       "<polygon fill=\"#e58139\" fill-opacity=\"0.666667\" points=\"280,-187 140,-187 140,-104 280,-104 280,-187\" stroke=\"black\"/>\n",
       "<text font-family=\"Times,serif\" font-size=\"14.00\" text-anchor=\"middle\" x=\"210\" y=\"-171.8\">V3 &lt;= -1.382</text>\n",
       "<text font-family=\"Times,serif\" font-size=\"14.00\" text-anchor=\"middle\" x=\"210\" y=\"-156.8\">gini = 0.374</text>\n",
       "<text font-family=\"Times,serif\" font-size=\"14.00\" text-anchor=\"middle\" x=\"210\" y=\"-141.8\">samples = 349</text>\n",
       "<text font-family=\"Times,serif\" font-size=\"14.00\" text-anchor=\"middle\" x=\"210\" y=\"-126.8\">value = [262, 87]</text>\n",
       "<text font-family=\"Times,serif\" font-size=\"14.00\" text-anchor=\"middle\" x=\"210\" y=\"-111.8\">class = No</text>\n",
       "</g>\n",
       "<!-- 2&#45;&gt;3 -->\n",
       "<g class=\"edge\" id=\"edge3\"><title>2-&gt;3</title>\n",
       "<path d=\"M363.344,-225.19C339.621,-213.016 313.308,-199.513 289.271,-187.179\" fill=\"none\" stroke=\"black\"/>\n",
       "<polygon fill=\"black\" points=\"290.675,-183.965 280.18,-182.514 287.479,-190.193 290.675,-183.965\" stroke=\"black\"/>\n",
       "</g>\n",
       "<!-- 6 -->\n",
       "<g class=\"node\" id=\"node7\"><title>6</title>\n",
       "<polygon fill=\"#e58139\" fill-opacity=\"0.792157\" points=\"508,-187 368,-187 368,-104 508,-104 508,-187\" stroke=\"black\"/>\n",
       "<text font-family=\"Times,serif\" font-size=\"14.00\" text-anchor=\"middle\" x=\"438\" y=\"-171.8\">V6 &lt;= 1.5</text>\n",
       "<text font-family=\"Times,serif\" font-size=\"14.00\" text-anchor=\"middle\" x=\"438\" y=\"-156.8\">gini = 0.284</text>\n",
       "<text font-family=\"Times,serif\" font-size=\"14.00\" text-anchor=\"middle\" x=\"438\" y=\"-141.8\">samples = 332</text>\n",
       "<text font-family=\"Times,serif\" font-size=\"14.00\" text-anchor=\"middle\" x=\"438\" y=\"-126.8\">value = [275, 57]</text>\n",
       "<text font-family=\"Times,serif\" font-size=\"14.00\" text-anchor=\"middle\" x=\"438\" y=\"-111.8\">class = No</text>\n",
       "</g>\n",
       "<!-- 2&#45;&gt;6 -->\n",
       "<g class=\"edge\" id=\"edge6\"><title>2-&gt;6</title>\n",
       "<path d=\"M438,-222.907C438,-214.649 438,-205.864 438,-197.302\" fill=\"none\" stroke=\"black\"/>\n",
       "<polygon fill=\"black\" points=\"441.5,-197.021 438,-187.021 434.5,-197.021 441.5,-197.021\" stroke=\"black\"/>\n",
       "</g>\n",
       "<!-- 4 -->\n",
       "<g class=\"node\" id=\"node5\"><title>4</title>\n",
       "<polygon fill=\"#e58139\" fill-opacity=\"0.862745\" points=\"122,-68 -7.10543e-15,-68 -7.10543e-15,-0 122,-0 122,-68\" stroke=\"black\"/>\n",
       "<text font-family=\"Times,serif\" font-size=\"14.00\" text-anchor=\"middle\" x=\"61\" y=\"-52.8\">gini = 0.213</text>\n",
       "<text font-family=\"Times,serif\" font-size=\"14.00\" text-anchor=\"middle\" x=\"61\" y=\"-37.8\">samples = 33</text>\n",
       "<text font-family=\"Times,serif\" font-size=\"14.00\" text-anchor=\"middle\" x=\"61\" y=\"-22.8\">value = [29, 4]</text>\n",
       "<text font-family=\"Times,serif\" font-size=\"14.00\" text-anchor=\"middle\" x=\"61\" y=\"-7.8\">class = No</text>\n",
       "</g>\n",
       "<!-- 3&#45;&gt;4 -->\n",
       "<g class=\"edge\" id=\"edge4\"><title>3-&gt;4</title>\n",
       "<path d=\"M154.518,-103.726C141.486,-94.1494 127.623,-83.9611 114.672,-74.4438\" fill=\"none\" stroke=\"black\"/>\n",
       "<polygon fill=\"black\" points=\"116.442,-71.4012 106.312,-68.2996 112.297,-77.0418 116.442,-71.4012\" stroke=\"black\"/>\n",
       "</g>\n",
       "<!-- 5 -->\n",
       "<g class=\"node\" id=\"node6\"><title>5</title>\n",
       "<polygon fill=\"#e58139\" fill-opacity=\"0.643137\" points=\"280,-68 140,-68 140,-0 280,-0 280,-68\" stroke=\"black\"/>\n",
       "<text font-family=\"Times,serif\" font-size=\"14.00\" text-anchor=\"middle\" x=\"210\" y=\"-52.8\">gini = 0.387</text>\n",
       "<text font-family=\"Times,serif\" font-size=\"14.00\" text-anchor=\"middle\" x=\"210\" y=\"-37.8\">samples = 316</text>\n",
       "<text font-family=\"Times,serif\" font-size=\"14.00\" text-anchor=\"middle\" x=\"210\" y=\"-22.8\">value = [233, 83]</text>\n",
       "<text font-family=\"Times,serif\" font-size=\"14.00\" text-anchor=\"middle\" x=\"210\" y=\"-7.8\">class = No</text>\n",
       "</g>\n",
       "<!-- 3&#45;&gt;5 -->\n",
       "<g class=\"edge\" id=\"edge5\"><title>3-&gt;5</title>\n",
       "<path d=\"M210,-103.726C210,-95.5175 210,-86.8595 210,-78.56\" fill=\"none\" stroke=\"black\"/>\n",
       "<polygon fill=\"black\" points=\"213.5,-78.2996 210,-68.2996 206.5,-78.2996 213.5,-78.2996\" stroke=\"black\"/>\n",
       "</g>\n",
       "<!-- 7 -->\n",
       "<g class=\"node\" id=\"node8\"><title>7</title>\n",
       "<polygon fill=\"#e58139\" fill-opacity=\"0.894118\" points=\"420,-68 298,-68 298,-0 420,-0 420,-68\" stroke=\"black\"/>\n",
       "<text font-family=\"Times,serif\" font-size=\"14.00\" text-anchor=\"middle\" x=\"359\" y=\"-52.8\">gini = 0.173</text>\n",
       "<text font-family=\"Times,serif\" font-size=\"14.00\" text-anchor=\"middle\" x=\"359\" y=\"-37.8\">samples = 94</text>\n",
       "<text font-family=\"Times,serif\" font-size=\"14.00\" text-anchor=\"middle\" x=\"359\" y=\"-22.8\">value = [85, 9]</text>\n",
       "<text font-family=\"Times,serif\" font-size=\"14.00\" text-anchor=\"middle\" x=\"359\" y=\"-7.8\">class = No</text>\n",
       "</g>\n",
       "<!-- 6&#45;&gt;7 -->\n",
       "<g class=\"edge\" id=\"edge7\"><title>6-&gt;7</title>\n",
       "<path d=\"M408.583,-103.726C402.2,-94.879 395.441,-85.51 389.035,-76.6303\" fill=\"none\" stroke=\"black\"/>\n",
       "<polygon fill=\"black\" points=\"391.714,-74.3615 383.024,-68.2996 386.037,-78.4571 391.714,-74.3615\" stroke=\"black\"/>\n",
       "</g>\n",
       "<!-- 8 -->\n",
       "<g class=\"node\" id=\"node9\"><title>8</title>\n",
       "<polygon fill=\"#e58139\" fill-opacity=\"0.749020\" points=\"578,-68 438,-68 438,-0 578,-0 578,-68\" stroke=\"black\"/>\n",
       "<text font-family=\"Times,serif\" font-size=\"14.00\" text-anchor=\"middle\" x=\"508\" y=\"-52.8\">gini = 0.322</text>\n",
       "<text font-family=\"Times,serif\" font-size=\"14.00\" text-anchor=\"middle\" x=\"508\" y=\"-37.8\">samples = 238</text>\n",
       "<text font-family=\"Times,serif\" font-size=\"14.00\" text-anchor=\"middle\" x=\"508\" y=\"-22.8\">value = [190, 48]</text>\n",
       "<text font-family=\"Times,serif\" font-size=\"14.00\" text-anchor=\"middle\" x=\"508\" y=\"-7.8\">class = No</text>\n",
       "</g>\n",
       "<!-- 6&#45;&gt;8 -->\n",
       "<g class=\"edge\" id=\"edge8\"><title>6-&gt;8</title>\n",
       "<path d=\"M464.065,-103.726C469.663,-94.9703 475.587,-85.7032 481.211,-76.9051\" fill=\"none\" stroke=\"black\"/>\n",
       "<polygon fill=\"black\" points=\"484.275,-78.6103 486.713,-68.2996 478.377,-74.8399 484.275,-78.6103\" stroke=\"black\"/>\n",
       "</g>\n",
       "<!-- 11 -->\n",
       "<g class=\"node\" id=\"node12\"><title>11</title>\n",
       "<polygon fill=\"#e58139\" fill-opacity=\"0.513725\" points=\"980.5,-306 831.5,-306 831.5,-223 980.5,-223 980.5,-306\" stroke=\"black\"/>\n",
       "<text font-family=\"Times,serif\" font-size=\"14.00\" text-anchor=\"middle\" x=\"906\" y=\"-290.8\">V5 &lt;= 1.5</text>\n",
       "<text font-family=\"Times,serif\" font-size=\"14.00\" text-anchor=\"middle\" x=\"906\" y=\"-275.8\">gini = 0.44</text>\n",
       "<text font-family=\"Times,serif\" font-size=\"14.00\" text-anchor=\"middle\" x=\"906\" y=\"-260.8\">samples = 944</text>\n",
       "<text font-family=\"Times,serif\" font-size=\"14.00\" text-anchor=\"middle\" x=\"906\" y=\"-245.8\">value = [635, 309]</text>\n",
       "<text font-family=\"Times,serif\" font-size=\"14.00\" text-anchor=\"middle\" x=\"906\" y=\"-230.8\">class = No</text>\n",
       "</g>\n",
       "<!-- 10&#45;&gt;11 -->\n",
       "<g class=\"edge\" id=\"edge11\"><title>10-&gt;11</title>\n",
       "<path d=\"M906,-341.907C906,-333.649 906,-324.864 906,-316.302\" fill=\"none\" stroke=\"black\"/>\n",
       "<polygon fill=\"black\" points=\"909.5,-316.021 906,-306.021 902.5,-316.021 909.5,-316.021\" stroke=\"black\"/>\n",
       "</g>\n",
       "<!-- 18 -->\n",
       "<g class=\"node\" id=\"node19\"><title>18</title>\n",
       "<polygon fill=\"#e58139\" fill-opacity=\"0.235294\" points=\"1439.5,-306 1290.5,-306 1290.5,-223 1439.5,-223 1439.5,-306\" stroke=\"black\"/>\n",
       "<text font-family=\"Times,serif\" font-size=\"14.00\" text-anchor=\"middle\" x=\"1365\" y=\"-290.8\">V7 &lt;= 1.5</text>\n",
       "<text font-family=\"Times,serif\" font-size=\"14.00\" text-anchor=\"middle\" x=\"1365\" y=\"-275.8\">gini = 0.491</text>\n",
       "<text font-family=\"Times,serif\" font-size=\"14.00\" text-anchor=\"middle\" x=\"1365\" y=\"-260.8\">samples = 857</text>\n",
       "<text font-family=\"Times,serif\" font-size=\"14.00\" text-anchor=\"middle\" x=\"1365\" y=\"-245.8\">value = [486, 371]</text>\n",
       "<text font-family=\"Times,serif\" font-size=\"14.00\" text-anchor=\"middle\" x=\"1365\" y=\"-230.8\">class = No</text>\n",
       "</g>\n",
       "<!-- 10&#45;&gt;18 -->\n",
       "<g class=\"edge\" id=\"edge18\"><title>10-&gt;18</title>\n",
       "<path d=\"M985.166,-362.32C1067.56,-341.318 1196.11,-308.55 1280.45,-287.052\" fill=\"none\" stroke=\"black\"/>\n",
       "<polygon fill=\"black\" points=\"1281.43,-290.415 1290.25,-284.553 1279.7,-283.632 1281.43,-290.415\" stroke=\"black\"/>\n",
       "</g>\n",
       "<!-- 12 -->\n",
       "<g class=\"node\" id=\"node13\"><title>12</title>\n",
       "<polygon fill=\"#e58139\" fill-opacity=\"0.301961\" points=\"888.5,-187 739.5,-187 739.5,-104 888.5,-104 888.5,-187\" stroke=\"black\"/>\n",
       "<text font-family=\"Times,serif\" font-size=\"14.00\" text-anchor=\"middle\" x=\"814\" y=\"-171.8\">V6 &lt;= 2.5</text>\n",
       "<text font-family=\"Times,serif\" font-size=\"14.00\" text-anchor=\"middle\" x=\"814\" y=\"-156.8\">gini = 0.484</text>\n",
       "<text font-family=\"Times,serif\" font-size=\"14.00\" text-anchor=\"middle\" x=\"814\" y=\"-141.8\">samples = 350</text>\n",
       "<text font-family=\"Times,serif\" font-size=\"14.00\" text-anchor=\"middle\" x=\"814\" y=\"-126.8\">value = [206, 144]</text>\n",
       "<text font-family=\"Times,serif\" font-size=\"14.00\" text-anchor=\"middle\" x=\"814\" y=\"-111.8\">class = No</text>\n",
       "</g>\n",
       "<!-- 11&#45;&gt;12 -->\n",
       "<g class=\"edge\" id=\"edge12\"><title>11-&gt;12</title>\n",
       "<path d=\"M874.081,-222.907C867.016,-213.923 859.461,-204.315 852.176,-195.05\" fill=\"none\" stroke=\"black\"/>\n",
       "<polygon fill=\"black\" points=\"854.795,-192.718 845.863,-187.021 849.292,-197.045 854.795,-192.718\" stroke=\"black\"/>\n",
       "</g>\n",
       "<!-- 15 -->\n",
       "<g class=\"node\" id=\"node16\"><title>15</title>\n",
       "<polygon fill=\"#e58139\" fill-opacity=\"0.615686\" points=\"1055.5,-187 906.5,-187 906.5,-104 1055.5,-104 1055.5,-187\" stroke=\"black\"/>\n",
       "<text font-family=\"Times,serif\" font-size=\"14.00\" text-anchor=\"middle\" x=\"981\" y=\"-171.8\">V3 &lt;= -0.083</text>\n",
       "<text font-family=\"Times,serif\" font-size=\"14.00\" text-anchor=\"middle\" x=\"981\" y=\"-156.8\">gini = 0.401</text>\n",
       "<text font-family=\"Times,serif\" font-size=\"14.00\" text-anchor=\"middle\" x=\"981\" y=\"-141.8\">samples = 594</text>\n",
       "<text font-family=\"Times,serif\" font-size=\"14.00\" text-anchor=\"middle\" x=\"981\" y=\"-126.8\">value = [429, 165]</text>\n",
       "<text font-family=\"Times,serif\" font-size=\"14.00\" text-anchor=\"middle\" x=\"981\" y=\"-111.8\">class = No</text>\n",
       "</g>\n",
       "<!-- 11&#45;&gt;15 -->\n",
       "<g class=\"edge\" id=\"edge15\"><title>11-&gt;15</title>\n",
       "<path d=\"M932.021,-222.907C937.664,-214.105 943.69,-204.703 949.518,-195.612\" fill=\"none\" stroke=\"black\"/>\n",
       "<polygon fill=\"black\" points=\"952.575,-197.328 955.025,-187.021 946.682,-193.551 952.575,-197.328\" stroke=\"black\"/>\n",
       "</g>\n",
       "<!-- 13 -->\n",
       "<g class=\"node\" id=\"node14\"><title>13</title>\n",
       "<polygon fill=\"#e58139\" fill-opacity=\"0.031373\" points=\"727.5,-68 596.5,-68 596.5,-0 727.5,-0 727.5,-68\" stroke=\"black\"/>\n",
       "<text font-family=\"Times,serif\" font-size=\"14.00\" text-anchor=\"middle\" x=\"662\" y=\"-52.8\">gini = 0.5</text>\n",
       "<text font-family=\"Times,serif\" font-size=\"14.00\" text-anchor=\"middle\" x=\"662\" y=\"-37.8\">samples = 183</text>\n",
       "<text font-family=\"Times,serif\" font-size=\"14.00\" text-anchor=\"middle\" x=\"662\" y=\"-22.8\">value = [93, 90]</text>\n",
       "<text font-family=\"Times,serif\" font-size=\"14.00\" text-anchor=\"middle\" x=\"662\" y=\"-7.8\">class = No</text>\n",
       "</g>\n",
       "<!-- 12&#45;&gt;13 -->\n",
       "<g class=\"edge\" id=\"edge13\"><title>12-&gt;13</title>\n",
       "<path d=\"M757.401,-103.726C743.98,-94.0582 729.695,-83.767 716.376,-74.172\" fill=\"none\" stroke=\"black\"/>\n",
       "<polygon fill=\"black\" points=\"718.384,-71.305 708.224,-68.2996 714.292,-76.9846 718.384,-71.305\" stroke=\"black\"/>\n",
       "</g>\n",
       "<!-- 14 -->\n",
       "<g class=\"node\" id=\"node15\"><title>14</title>\n",
       "<polygon fill=\"#e58139\" fill-opacity=\"0.521569\" points=\"886,-68 746,-68 746,-0 886,-0 886,-68\" stroke=\"black\"/>\n",
       "<text font-family=\"Times,serif\" font-size=\"14.00\" text-anchor=\"middle\" x=\"816\" y=\"-52.8\">gini = 0.438</text>\n",
       "<text font-family=\"Times,serif\" font-size=\"14.00\" text-anchor=\"middle\" x=\"816\" y=\"-37.8\">samples = 167</text>\n",
       "<text font-family=\"Times,serif\" font-size=\"14.00\" text-anchor=\"middle\" x=\"816\" y=\"-22.8\">value = [113, 54]</text>\n",
       "<text font-family=\"Times,serif\" font-size=\"14.00\" text-anchor=\"middle\" x=\"816\" y=\"-7.8\">class = No</text>\n",
       "</g>\n",
       "<!-- 12&#45;&gt;14 -->\n",
       "<g class=\"edge\" id=\"edge14\"><title>12-&gt;14</title>\n",
       "<path d=\"M814.745,-103.726C814.895,-95.5175 815.053,-86.8595 815.204,-78.56\" fill=\"none\" stroke=\"black\"/>\n",
       "<polygon fill=\"black\" points=\"818.708,-78.3619 815.392,-68.2996 811.71,-78.234 818.708,-78.3619\" stroke=\"black\"/>\n",
       "</g>\n",
       "<!-- 16 -->\n",
       "<g class=\"node\" id=\"node17\"><title>16</title>\n",
       "<polygon fill=\"#e58139\" fill-opacity=\"0.486275\" points=\"1053.5,-68 904.5,-68 904.5,-0 1053.5,-0 1053.5,-68\" stroke=\"black\"/>\n",
       "<text font-family=\"Times,serif\" font-size=\"14.00\" text-anchor=\"middle\" x=\"979\" y=\"-52.8\">gini = 0.448</text>\n",
       "<text font-family=\"Times,serif\" font-size=\"14.00\" text-anchor=\"middle\" x=\"979\" y=\"-37.8\">samples = 307</text>\n",
       "<text font-family=\"Times,serif\" font-size=\"14.00\" text-anchor=\"middle\" x=\"979\" y=\"-22.8\">value = [203, 104]</text>\n",
       "<text font-family=\"Times,serif\" font-size=\"14.00\" text-anchor=\"middle\" x=\"979\" y=\"-7.8\">class = No</text>\n",
       "</g>\n",
       "<!-- 15&#45;&gt;16 -->\n",
       "<g class=\"edge\" id=\"edge16\"><title>15-&gt;16</title>\n",
       "<path d=\"M980.255,-103.726C980.105,-95.5175 979.947,-86.8595 979.796,-78.56\" fill=\"none\" stroke=\"black\"/>\n",
       "<polygon fill=\"black\" points=\"983.29,-78.234 979.608,-68.2996 976.292,-78.3619 983.29,-78.234\" stroke=\"black\"/>\n",
       "</g>\n",
       "<!-- 17 -->\n",
       "<g class=\"node\" id=\"node18\"><title>17</title>\n",
       "<polygon fill=\"#e58139\" fill-opacity=\"0.729412\" points=\"1212,-68 1072,-68 1072,-0 1212,-0 1212,-68\" stroke=\"black\"/>\n",
       "<text font-family=\"Times,serif\" font-size=\"14.00\" text-anchor=\"middle\" x=\"1142\" y=\"-52.8\">gini = 0.335</text>\n",
       "<text font-family=\"Times,serif\" font-size=\"14.00\" text-anchor=\"middle\" x=\"1142\" y=\"-37.8\">samples = 287</text>\n",
       "<text font-family=\"Times,serif\" font-size=\"14.00\" text-anchor=\"middle\" x=\"1142\" y=\"-22.8\">value = [226, 61]</text>\n",
       "<text font-family=\"Times,serif\" font-size=\"14.00\" text-anchor=\"middle\" x=\"1142\" y=\"-7.8\">class = No</text>\n",
       "</g>\n",
       "<!-- 15&#45;&gt;17 -->\n",
       "<g class=\"edge\" id=\"edge17\"><title>15-&gt;17</title>\n",
       "<path d=\"M1040.95,-103.726C1055.37,-93.9161 1070.74,-83.4644 1085.03,-73.7496\" fill=\"none\" stroke=\"black\"/>\n",
       "<polygon fill=\"black\" points=\"1086.99,-76.6431 1093.3,-68.1252 1083.06,-70.855 1086.99,-76.6431\" stroke=\"black\"/>\n",
       "</g>\n",
       "<!-- 19 -->\n",
       "<g class=\"node\" id=\"node20\"><title>19</title>\n",
       "<polygon fill=\"#e58139\" fill-opacity=\"0.364706\" points=\"1435,-187 1295,-187 1295,-104 1435,-104 1435,-187\" stroke=\"black\"/>\n",
       "<text font-family=\"Times,serif\" font-size=\"14.00\" text-anchor=\"middle\" x=\"1365\" y=\"-171.8\">V5 &lt;= 3.5</text>\n",
       "<text font-family=\"Times,serif\" font-size=\"14.00\" text-anchor=\"middle\" x=\"1365\" y=\"-156.8\">gini = 0.475</text>\n",
       "<text font-family=\"Times,serif\" font-size=\"14.00\" text-anchor=\"middle\" x=\"1365\" y=\"-141.8\">samples = 250</text>\n",
       "<text font-family=\"Times,serif\" font-size=\"14.00\" text-anchor=\"middle\" x=\"1365\" y=\"-126.8\">value = [153, 97]</text>\n",
       "<text font-family=\"Times,serif\" font-size=\"14.00\" text-anchor=\"middle\" x=\"1365\" y=\"-111.8\">class = No</text>\n",
       "</g>\n",
       "<!-- 18&#45;&gt;19 -->\n",
       "<g class=\"edge\" id=\"edge19\"><title>18-&gt;19</title>\n",
       "<path d=\"M1365,-222.907C1365,-214.649 1365,-205.864 1365,-197.302\" fill=\"none\" stroke=\"black\"/>\n",
       "<polygon fill=\"black\" points=\"1368.5,-197.021 1365,-187.021 1361.5,-197.021 1368.5,-197.021\" stroke=\"black\"/>\n",
       "</g>\n",
       "<!-- 22 -->\n",
       "<g class=\"node\" id=\"node23\"><title>22</title>\n",
       "<polygon fill=\"#e58139\" fill-opacity=\"0.176471\" points=\"1668.5,-187 1519.5,-187 1519.5,-104 1668.5,-104 1668.5,-187\" stroke=\"black\"/>\n",
       "<text font-family=\"Times,serif\" font-size=\"14.00\" text-anchor=\"middle\" x=\"1594\" y=\"-171.8\">V2 &lt;= 27.497</text>\n",
       "<text font-family=\"Times,serif\" font-size=\"14.00\" text-anchor=\"middle\" x=\"1594\" y=\"-156.8\">gini = 0.495</text>\n",
       "<text font-family=\"Times,serif\" font-size=\"14.00\" text-anchor=\"middle\" x=\"1594\" y=\"-141.8\">samples = 607</text>\n",
       "<text font-family=\"Times,serif\" font-size=\"14.00\" text-anchor=\"middle\" x=\"1594\" y=\"-126.8\">value = [333, 274]</text>\n",
       "<text font-family=\"Times,serif\" font-size=\"14.00\" text-anchor=\"middle\" x=\"1594\" y=\"-111.8\">class = No</text>\n",
       "</g>\n",
       "<!-- 18&#45;&gt;22 -->\n",
       "<g class=\"edge\" id=\"edge22\"><title>18-&gt;22</title>\n",
       "<path d=\"M1439.67,-225.352C1462.25,-213.813 1487.2,-201.068 1510.33,-189.249\" fill=\"none\" stroke=\"black\"/>\n",
       "<polygon fill=\"black\" points=\"1512.12,-192.263 1519.44,-184.596 1508.94,-186.029 1512.12,-192.263\" stroke=\"black\"/>\n",
       "</g>\n",
       "<!-- 20 -->\n",
       "<g class=\"node\" id=\"node21\"><title>20</title>\n",
       "<polygon fill=\"#e58139\" fill-opacity=\"0.290196\" points=\"1370,-68 1230,-68 1230,-0 1370,-0 1370,-68\" stroke=\"black\"/>\n",
       "<text font-family=\"Times,serif\" font-size=\"14.00\" text-anchor=\"middle\" x=\"1300\" y=\"-52.8\">gini = 0.485</text>\n",
       "<text font-family=\"Times,serif\" font-size=\"14.00\" text-anchor=\"middle\" x=\"1300\" y=\"-37.8\">samples = 217</text>\n",
       "<text font-family=\"Times,serif\" font-size=\"14.00\" text-anchor=\"middle\" x=\"1300\" y=\"-22.8\">value = [127, 90]</text>\n",
       "<text font-family=\"Times,serif\" font-size=\"14.00\" text-anchor=\"middle\" x=\"1300\" y=\"-7.8\">class = No</text>\n",
       "</g>\n",
       "<!-- 19&#45;&gt;20 -->\n",
       "<g class=\"edge\" id=\"edge20\"><title>19-&gt;20</title>\n",
       "<path d=\"M1340.8,-103.726C1335.6,-94.9703 1330.1,-85.7032 1324.88,-76.9051\" fill=\"none\" stroke=\"black\"/>\n",
       "<polygon fill=\"black\" points=\"1327.88,-75.1121 1319.77,-68.2996 1321.86,-78.6853 1327.88,-75.1121\" stroke=\"black\"/>\n",
       "</g>\n",
       "<!-- 21 -->\n",
       "<g class=\"node\" id=\"node22\"><title>21</title>\n",
       "<polygon fill=\"#e58139\" fill-opacity=\"0.729412\" points=\"1510,-68 1388,-68 1388,-0 1510,-0 1510,-68\" stroke=\"black\"/>\n",
       "<text font-family=\"Times,serif\" font-size=\"14.00\" text-anchor=\"middle\" x=\"1449\" y=\"-52.8\">gini = 0.334</text>\n",
       "<text font-family=\"Times,serif\" font-size=\"14.00\" text-anchor=\"middle\" x=\"1449\" y=\"-37.8\">samples = 33</text>\n",
       "<text font-family=\"Times,serif\" font-size=\"14.00\" text-anchor=\"middle\" x=\"1449\" y=\"-22.8\">value = [26, 7]</text>\n",
       "<text font-family=\"Times,serif\" font-size=\"14.00\" text-anchor=\"middle\" x=\"1449\" y=\"-7.8\">class = No</text>\n",
       "</g>\n",
       "<!-- 19&#45;&gt;21 -->\n",
       "<g class=\"edge\" id=\"edge21\"><title>19-&gt;21</title>\n",
       "<path d=\"M1396.28,-103.726C1403.14,-94.7878 1410.4,-85.3168 1417.28,-76.3558\" fill=\"none\" stroke=\"black\"/>\n",
       "<polygon fill=\"black\" points=\"1420.15,-78.3643 1423.46,-68.2996 1414.59,-74.1036 1420.15,-78.3643\" stroke=\"black\"/>\n",
       "</g>\n",
       "<!-- 23 -->\n",
       "<g class=\"node\" id=\"node24\"><title>23</title>\n",
       "<polygon fill=\"#399de5\" fill-opacity=\"0.031373\" points=\"1659.5,-68 1528.5,-68 1528.5,-0 1659.5,-0 1659.5,-68\" stroke=\"black\"/>\n",
       "<text font-family=\"Times,serif\" font-size=\"14.00\" text-anchor=\"middle\" x=\"1594\" y=\"-52.8\">gini = 0.5</text>\n",
       "<text font-family=\"Times,serif\" font-size=\"14.00\" text-anchor=\"middle\" x=\"1594\" y=\"-37.8\">samples = 187</text>\n",
       "<text font-family=\"Times,serif\" font-size=\"14.00\" text-anchor=\"middle\" x=\"1594\" y=\"-22.8\">value = [92, 95]</text>\n",
       "<text font-family=\"Times,serif\" font-size=\"14.00\" text-anchor=\"middle\" x=\"1594\" y=\"-7.8\">class = Yes</text>\n",
       "</g>\n",
       "<!-- 22&#45;&gt;23 -->\n",
       "<g class=\"edge\" id=\"edge23\"><title>22-&gt;23</title>\n",
       "<path d=\"M1594,-103.726C1594,-95.5175 1594,-86.8595 1594,-78.56\" fill=\"none\" stroke=\"black\"/>\n",
       "<polygon fill=\"black\" points=\"1597.5,-78.2996 1594,-68.2996 1590.5,-78.2996 1597.5,-78.2996\" stroke=\"black\"/>\n",
       "</g>\n",
       "<!-- 24 -->\n",
       "<g class=\"node\" id=\"node25\"><title>24</title>\n",
       "<polygon fill=\"#e58139\" fill-opacity=\"0.258824\" points=\"1826.5,-68 1677.5,-68 1677.5,-0 1826.5,-0 1826.5,-68\" stroke=\"black\"/>\n",
       "<text font-family=\"Times,serif\" font-size=\"14.00\" text-anchor=\"middle\" x=\"1752\" y=\"-52.8\">gini = 0.489</text>\n",
       "<text font-family=\"Times,serif\" font-size=\"14.00\" text-anchor=\"middle\" x=\"1752\" y=\"-37.8\">samples = 420</text>\n",
       "<text font-family=\"Times,serif\" font-size=\"14.00\" text-anchor=\"middle\" x=\"1752\" y=\"-22.8\">value = [241, 179]</text>\n",
       "<text font-family=\"Times,serif\" font-size=\"14.00\" text-anchor=\"middle\" x=\"1752\" y=\"-7.8\">class = No</text>\n",
       "</g>\n",
       "<!-- 22&#45;&gt;24 -->\n",
       "<g class=\"edge\" id=\"edge24\"><title>22-&gt;24</title>\n",
       "<path d=\"M1652.83,-103.726C1666.86,-94.0078 1681.79,-83.6597 1695.69,-74.0222\" fill=\"none\" stroke=\"black\"/>\n",
       "<polygon fill=\"black\" points=\"1697.98,-76.6981 1704.2,-68.1252 1693.99,-70.9447 1697.98,-76.6981\" stroke=\"black\"/>\n",
       "</g>\n",
       "</g>\n",
       "</svg>"
      ],
      "text/plain": [
       "<IPython.core.display.SVG object>"
      ]
     },
     "metadata": {},
     "output_type": "display_data"
    }
   ],
   "source": [
    "# Graphically\n",
    "graph = Source(export_graphviz(tree, out_file=None\n",
    "   , feature_names=train_data.iloc[:,3:].columns.values.tolist(), class_names=['No', 'Yes'] \n",
    "   , filled = True))\n",
    "display(SVG(graph.pipe(format='svg')))"
   ]
  },
  {
   "cell_type": "markdown",
   "metadata": {},
   "source": [
    "Our decision tree allows us to visualize the specific combination of feature levels associated with the user purchasing. By following all the various paths leading to a leaf node being classified as 'Yes', we can establish rules to decide whether to send the promotion to various users. We even include the nodes for which the probability of purchasing is greater than 40%, as it is much higher than our baseline.\n",
    "\n",
    "### Promotion Strategy"
   ]
  },
  {
   "cell_type": "code",
   "execution_count": 79,
   "metadata": {},
   "outputs": [],
   "source": [
    "def compare_features(row):\n",
    "    '''\n",
    "    A helper function to get the predicted probability of purchasing for a given individual and make a decision based on a\n",
    "    chosen boundary.\n",
    "    \n",
    "    INPUTS:\n",
    "    row: an array containing the values of interest in a row\n",
    "    \n",
    "    OUTPUT:\n",
    "    a string specifying whether a given individual (characterized by a row) should be sent the promotion or not\n",
    "    '''\n",
    "    if tree.predict_proba(row.values.reshape(1,-1))[0][1] > 0.4:\n",
    "        return 'Yes'\n",
    "    else:\n",
    "        return 'No'"
   ]
  },
  {
   "cell_type": "code",
   "execution_count": 80,
   "metadata": {},
   "outputs": [],
   "source": [
    "def promotion_strategy(df):\n",
    "    '''\n",
    "    INPUT \n",
    "    df - a dataframe with *only* the columns V1 - V7 (same as train_data)\n",
    "\n",
    "    OUTPUT\n",
    "    promotion_df - np.array with the values\n",
    "                   'Yes' or 'No' related to whether or not an \n",
    "                   individual should recieve a promotion \n",
    "                   should be the length of df.shape[0]\n",
    "                \n",
    "    Ex:\n",
    "    INPUT: df\n",
    "    \n",
    "    V1\tV2\t  V3\tV4\tV5\tV6\tV7\n",
    "    2\t30\t-1.1\t1\t1\t3\t2\n",
    "    3\t32\t-0.6\t2\t3\t2\t2\n",
    "    2\t30\t0.13\t1\t1\t4\t2\n",
    "    \n",
    "    OUTPUT: promotion\n",
    "    \n",
    "    array(['Yes', 'Yes', 'No'])\n",
    "    indicating the first two users would recieve the promotion and \n",
    "    the last should not.\n",
    "    '''    \n",
    "    promotion = df.apply(compare_features, axis = 1)\n",
    "    \n",
    "    return promotion\n",
    "    "
   ]
  },
  {
   "cell_type": "markdown",
   "metadata": {},
   "source": [
    "Now that we have our promotion strategy, we test it out on our test set."
   ]
  },
  {
   "cell_type": "code",
   "execution_count": 81,
   "metadata": {},
   "outputs": [
    {
     "name": "stdout",
     "output_type": "stream",
     "text": [
      "Nice job!  See how well your strategy worked on our test data below!\n",
      "\n",
      "Your irr with this strategy is 0.0200.\n",
      "\n",
      "Your nir with this strategy is 359.55.\n",
      "We came up with a model with an irr of 0.0188 and an nir of 189.45 on the test set.\n",
      "\n",
      " How did you do?\n"
     ]
    },
    {
     "data": {
      "text/plain": [
       "(0.019980413077248939, 359.54999999999995)"
      ]
     },
     "execution_count": 81,
     "metadata": {},
     "output_type": "execute_result"
    }
   ],
   "source": [
    "# This will test your results, and provide you back some information \n",
    "# on how well your promotion_strategy will work in practice\n",
    "\n",
    "test_results(promotion_strategy)"
   ]
  },
  {
   "cell_type": "markdown",
   "metadata": {},
   "source": [
    "As we can see, our strategy outperforms the optimal strategy devised by Udacity. Our incremental response rate is 2% while our net incremental revenue is $359.55. This means that my strategy was more targeted (and thus more efficient, as more people responded), and reached a large enough audience to generate a lot of incremental revenue.\n",
    "\n",
    "Although this approach was devised with a decision tree, we could test different classification models (Random Forest, Logistic Regression, Gradient Boosting...) and see which yields the best results. We could also test various threshold (i.e. probability of purchasing). The approach I would take would be to build a pipeline with GridSearch, and define a custom scoring method based on the NIR and IRR on the test set that the process would optimize towards. As a first iteration, the results are satisfactory here."
   ]
  },
  {
   "cell_type": "code",
   "execution_count": null,
   "metadata": {},
   "outputs": [],
   "source": []
  }
 ],
 "metadata": {
  "kernelspec": {
   "display_name": "Python 3",
   "language": "python",
   "name": "python3"
  },
  "language_info": {
   "codemirror_mode": {
    "name": "ipython",
    "version": 3
   },
   "file_extension": ".py",
   "mimetype": "text/x-python",
   "name": "python",
   "nbconvert_exporter": "python",
   "pygments_lexer": "ipython3",
   "version": "3.6.3"
  }
 },
 "nbformat": 4,
 "nbformat_minor": 2
}
